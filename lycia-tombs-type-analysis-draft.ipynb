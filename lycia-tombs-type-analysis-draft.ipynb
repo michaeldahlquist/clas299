{
 "cells": [
  {
   "cell_type": "markdown",
   "metadata": {},
   "source": [
    "# Ancient Lycia Necropoleis Type Analysis\n",
    "## Author: Michael Dahlquist, Kristen Qako, & Sean Sullivan\n",
    "\n",
    "In ancient Lycia, rock-cut tombs often clustered together in cemetery sites, or necropoleis, like ancient Myra (modern Demre), illustrated above. This data set contains data about Lycian necropoleis including the number of tombs at each site. You will figure out how many total tombs are represented in the data set. The records describe for each site its name, a typological classification by the Danish scholar Jan Zahle, the number of tombs, an English-language summary, and an identifier in a geographic data set.\n",
    "\n",
    "### The Data Set\n",
    "\n",
    "The dataset is available as a delimited-text file [here](https://raw.githubusercontent.com/michaeldahlquist/clas299/master/ancient-lycia-tombs/lycianNecropoleis.cex). The format is one record per row, and columns are delimited by the pound sign (hash tag) `#`. The file includes a header row:\n",
    "\n",
    "`sitename#ztype#tombcount#comments#ztypetext#rageid`\n",
    "\n",
    "The records describe for each site its name, a typological classification by the Danish scholar Jan Zahle, the number of tombs, an English-language summary, and an identifier in a geographic data set."
   ]
  },
  {
   "cell_type": "markdown",
   "metadata": {},
   "source": [
    "### Retrieve the data set\n",
    "\n",
    "To download the data set, you can use the Scala `Source` object. We need to import its class:\n",
    "\n",
    "`import scala.io.Source`"
   ]
  },
  {
   "cell_type": "code",
   "execution_count": 1,
   "metadata": {
    "inputHidden": false,
    "outputHidden": false
   },
   "outputs": [
    {
     "data": {
      "text/plain": [
       "\u001b[32mimport \u001b[39m\u001b[36mscala.io.Source\n",
       "\u001b[39m\n",
       "\u001b[36mlycianNecropoleis\u001b[39m: \u001b[32mString\u001b[39m = \u001b[32m\"https://raw.githubusercontent.com/michaeldahlquist/clas299/master/ancient-lycia-tombs/lycianNecropoleis.cex\"\u001b[39m"
      ]
     },
     "execution_count": 1,
     "metadata": {},
     "output_type": "execute_result"
    }
   ],
   "source": [
    "import scala.io.Source\n",
    "val lycianNecropoleis = \"https://raw.githubusercontent.com/michaeldahlquist/clas299/master/ancient-lycia-tombs/lycianNecropoleis.cex\""
   ]
  },
  {
   "cell_type": "markdown",
   "metadata": {},
   "source": [
    "We then extract a sequence of lines from the URL source, and convert them to a vector."
   ]
  },
  {
   "cell_type": "code",
   "execution_count": 2,
   "metadata": {},
   "outputs": [
    {
     "data": {
      "text/plain": [
       "\u001b[36mlines\u001b[39m: \u001b[32mVector\u001b[39m[\u001b[32mString\u001b[39m] = \u001b[33mVector\u001b[39m(\n",
       "  \u001b[32m\"sitename#ztype#tombcount#comments#ztypetext#rageid\"\u001b[39m,\n",
       "  \u001b[32m\"Antiphellos#IID#17#NA#House tomb, rock-cut facade#1667\"\u001b[39m,\n",
       "  \u001b[32m\"Pinara#IIIA#2#NA#Lycian sarcophagus, free standing#1696\"\u001b[39m,\n",
       "  \u001b[32m\"Delicedere#IIIA#1#NA#Lycian sarcophagus, free standing#NA\"\u001b[39m,\n",
       "  \u001b[32m\"Xanthos#IIIA#9#NA#Lycian sarcophagus, free standing#1694\"\u001b[39m,\n",
       "  \u001b[32m\"Tlos#IIIA#5#NA#Lycian sarcophagus, free standing#1695\"\u001b[39m,\n",
       "  \u001b[32m\"Telmessos#IIIA#1#NA#Lycian sarcophagus, free standing#1571\"\u001b[39m,\n",
       "  \u001b[32m\"Trysa#IIIA#4#NA#Lycian sarcophagus, free standing#1666\"\u001b[39m,\n",
       "  \u001b[32m\"Tuze#IIIA#3#NA#Lycian sarcophagus, free standing#1756\"\u001b[39m,\n",
       "  \u001b[32m\"Cindam#IIIA#1#NA#Lycian sarcophagus, free standing#1755\"\u001b[39m,\n",
       "  \u001b[32m\"Bayindir Liman#IIIA#1#NA#Lycian sarcophagus, free standing#1724\"\u001b[39m,\n",
       "  \u001b[32m\"Sura#IIIA#1#NA#Lycian sarcophagus, free standing#1702\"\u001b[39m,\n",
       "  \u001b[32m\"Limyra#IIIA#5#NA#Lycian sarcophagus, free standing#1701\"\u001b[39m,\n",
       "  \u001b[32m\"Kyanai#IIIA#2#NA#Lycian sarcophagus, free standing#1707\"\u001b[39m,\n",
       "  \u001b[32m\"Kadyanda#IIIA#1#NA#Lycian sarcophagus, free standing#1673\"\u001b[39m,\n",
       "  \u001b[32m\"Isinda#IIIA#1#NA#Lycian sarcophagus, free standing#1705\"\u001b[39m,\n",
       "  \u001b[32m\"Antiphellos#IIIA#1#NA#Lycian sarcophagus, free standing#1667\"\u001b[39m,\n",
       "  \u001b[32m\"Pinara#IIIB#1#NA#Lycian sarcophagus, partially free standing#1696\"\u001b[39m,\n",
       "  \u001b[32m\"Phellos#IIIB#1#NA#Lycian sarcophagus, partially free standing#1699\"\u001b[39m,\n",
       "  \u001b[32m\"Koybasi#IIIB#1#NA#Lycian sarcophagus, partially free standing#1763\"\u001b[39m,\n",
       "  \u001b[32m\"Kyanai#IIIB#1#NA#Lycian sarcophagus, partially free standing#1707\"\u001b[39m,\n",
       "  \u001b[32m\"Pinara#IIID#2#NA#Lycian sarcophagus, rock-cut facade#1696\"\u001b[39m,\n",
       "  \u001b[32m\"Myra#IIID#3#NA#Lycian sarcophagus, rock-cut facade#1697\"\u001b[39m,\n",
       "  \u001b[32m\"Teimiousa#IIID#1#NA#Lycian sarcophagus, rock-cut facade#1709\"\u001b[39m,\n",
       "  \u001b[32m\"Simena#IIID#1#NA#Lycian sarcophagus, rock-cut facade#1704\"\u001b[39m,\n",
       "  \u001b[32m\"Kyanai#IIID#1#NA#Lycian sarcophagus, rock-cut facade#1707\"\u001b[39m,\n",
       "  \u001b[32m\"Antiphellos#IIID#1#NA#Lycian sarcophagus, rock-cut facade#1667\"\u001b[39m,\n",
       "  \u001b[32m\"Myra#IVB/C#1#NA#House tomb of Greek type, partially freestanding or with chamber#1697\"\u001b[39m,\n",
       "  \u001b[32m\"Cagman#IIA#1#NA#House tomb, free standing#1763\"\u001b[39m,\n",
       "  \u001b[32m\"Kadyanda#IIA#1#NA#House tomb, free standing#1673\"\u001b[39m,\n",
       "  \u001b[32m\"Isinda#IIA#1#NA#House tomb, free standing#1705\"\u001b[39m,\n",
       "  \u001b[32m\"Arneai#IIA#1#NA#House tomb, free standing#1670\"\u001b[39m,\n",
       "  \u001b[32m\"Rhodiapolis#IIB/C#1#NA#House tomb, partially freestanding or with chamber#1703\"\u001b[39m,\n",
       "  \u001b[32m\"Pinara#IIB/C#6#NA#House tomb, partially freestanding or with chamber#1696\"\u001b[39m,\n",
       "  \u001b[32m\"Phellos#IIB/C#13#NA#House tomb, partially freestanding or with chamber#1699\"\u001b[39m,\n",
       "  \u001b[32m\"Cavdir-Turuncova#IIB/C#2#NA#House tomb, partially freestanding or with chambe\u001b[39m..."
      ]
     },
     "execution_count": 2,
     "metadata": {},
     "output_type": "execute_result"
    }
   ],
   "source": [
    "val lines = Source.fromURL(lycianNecropoleis).getLines.toVector"
   ]
  },
  {
   "cell_type": "markdown",
   "metadata": {},
   "source": [
    "### Extract the numeric count of tombs\n",
    "\n",
    "You should now have a Vector of Strings. You want to split up each String on the `#` character, to create a new Vector – this time, a Vector of Vectors. You’ll be mapping each line of the source data to a Vector of strings, one per column.\n",
    "\n",
    "We also will take the `tail` of the vector as the header is not part of the data."
   ]
  },
  {
   "cell_type": "code",
   "execution_count": 3,
   "metadata": {
    "inputHidden": false,
    "outputHidden": false
   },
   "outputs": [
    {
     "data": {
      "text/plain": [
       "\u001b[36mdata\u001b[39m: \u001b[32mVector\u001b[39m[\u001b[32mVector\u001b[39m[\u001b[32mString\u001b[39m]] = \u001b[33mVector\u001b[39m(\n",
       "  \u001b[33mVector\u001b[39m(\n",
       "    \u001b[32m\"Antiphellos\"\u001b[39m,\n",
       "    \u001b[32m\"IID\"\u001b[39m,\n",
       "    \u001b[32m\"17\"\u001b[39m,\n",
       "    \u001b[32m\"NA\"\u001b[39m,\n",
       "    \u001b[32m\"House tomb, rock-cut facade\"\u001b[39m,\n",
       "    \u001b[32m\"1667\"\u001b[39m\n",
       "  ),\n",
       "  \u001b[33mVector\u001b[39m(\n",
       "    \u001b[32m\"Pinara\"\u001b[39m,\n",
       "    \u001b[32m\"IIIA\"\u001b[39m,\n",
       "    \u001b[32m\"2\"\u001b[39m,\n",
       "    \u001b[32m\"NA\"\u001b[39m,\n",
       "    \u001b[32m\"Lycian sarcophagus, free standing\"\u001b[39m,\n",
       "    \u001b[32m\"1696\"\u001b[39m\n",
       "  ),\n",
       "  \u001b[33mVector\u001b[39m(\n",
       "    \u001b[32m\"Delicedere\"\u001b[39m,\n",
       "    \u001b[32m\"IIIA\"\u001b[39m,\n",
       "    \u001b[32m\"1\"\u001b[39m,\n",
       "    \u001b[32m\"NA\"\u001b[39m,\n",
       "    \u001b[32m\"Lycian sarcophagus, free standing\"\u001b[39m,\n",
       "    \u001b[32m\"NA\"\u001b[39m\n",
       "  ),\n",
       "  \u001b[33mVector\u001b[39m(\n",
       "    \u001b[32m\"Xanthos\"\u001b[39m,\n",
       "    \u001b[32m\"IIIA\"\u001b[39m,\n",
       "    \u001b[32m\"9\"\u001b[39m,\n",
       "    \u001b[32m\"NA\"\u001b[39m,\n",
       "    \u001b[32m\"Lycian sarcophagus, free standing\"\u001b[39m,\n",
       "    \u001b[32m\"1694\"\u001b[39m\n",
       "  ),\n",
       "  \u001b[33mVector\u001b[39m(\u001b[32m\"Tlos\"\u001b[39m, \u001b[32m\"IIIA\"\u001b[39m, \u001b[32m\"5\"\u001b[39m, \u001b[32m\"NA\"\u001b[39m, \u001b[32m\"Lycian sarcophagus, free standing\"\u001b[39m, \u001b[32m\"1695\"\u001b[39m),\n",
       "  \u001b[33mVector\u001b[39m(\n",
       "    \u001b[32m\"Telmessos\"\u001b[39m,\n",
       "    \u001b[32m\"IIIA\"\u001b[39m,\n",
       "    \u001b[32m\"1\"\u001b[39m,\n",
       "..."
      ]
     },
     "execution_count": 3,
     "metadata": {},
     "output_type": "execute_result"
    }
   ],
   "source": [
    "val data = lines.tail.map(ln => ln.split(\"#\").toVector)"
   ]
  },
  {
   "cell_type": "code",
   "execution_count": 4,
   "metadata": {},
   "outputs": [
    {
     "data": {
      "text/plain": [
       "\u001b[36mtombCounts\u001b[39m: \u001b[32mVector\u001b[39m[\u001b[32mInt\u001b[39m] = \u001b[33mVector\u001b[39m(\n",
       "  \u001b[32m17\u001b[39m,\n",
       "  \u001b[32m2\u001b[39m,\n",
       "  \u001b[32m1\u001b[39m,\n",
       "  \u001b[32m9\u001b[39m,\n",
       "  \u001b[32m5\u001b[39m,\n",
       "  \u001b[32m1\u001b[39m,\n",
       "  \u001b[32m4\u001b[39m,\n",
       "  \u001b[32m3\u001b[39m,\n",
       "  \u001b[32m1\u001b[39m,\n",
       "  \u001b[32m1\u001b[39m,\n",
       "  \u001b[32m1\u001b[39m,\n",
       "  \u001b[32m5\u001b[39m,\n",
       "  \u001b[32m2\u001b[39m,\n",
       "  \u001b[32m1\u001b[39m,\n",
       "  \u001b[32m1\u001b[39m,\n",
       "  \u001b[32m1\u001b[39m,\n",
       "  \u001b[32m1\u001b[39m,\n",
       "  \u001b[32m1\u001b[39m,\n",
       "  \u001b[32m1\u001b[39m,\n",
       "  \u001b[32m1\u001b[39m,\n",
       "  \u001b[32m2\u001b[39m,\n",
       "  \u001b[32m3\u001b[39m,\n",
       "  \u001b[32m1\u001b[39m,\n",
       "  \u001b[32m1\u001b[39m,\n",
       "  \u001b[32m1\u001b[39m,\n",
       "  \u001b[32m1\u001b[39m,\n",
       "  \u001b[32m1\u001b[39m,\n",
       "  \u001b[32m1\u001b[39m,\n",
       "  \u001b[32m1\u001b[39m,\n",
       "  \u001b[32m1\u001b[39m,\n",
       "  \u001b[32m1\u001b[39m,\n",
       "  \u001b[32m1\u001b[39m,\n",
       "  \u001b[32m6\u001b[39m,\n",
       "  \u001b[32m13\u001b[39m,\n",
       "  \u001b[32m2\u001b[39m,\n",
       "  \u001b[32m17\u001b[39m,\n",
       "  \u001b[32m2\u001b[39m,\n",
       "  \u001b[32m8\u001b[39m,\n",
       "..."
      ]
     },
     "execution_count": 4,
     "metadata": {},
     "output_type": "execute_result"
    }
   ],
   "source": [
    "val tombCounts = data.map(columns => columns(2).toInt)"
   ]
  },
  {
   "cell_type": "code",
   "execution_count": 5,
   "metadata": {},
   "outputs": [
    {
     "data": {
      "text/plain": [
       "\u001b[36muniqueZtypeNames\u001b[39m: \u001b[32mVector\u001b[39m[\u001b[32mString\u001b[39m] = \u001b[33mVector\u001b[39m(\n",
       "  \u001b[32m\"House tomb, rock-cut facade\"\u001b[39m,\n",
       "  \u001b[32m\"Lycian sarcophagus, free standing\"\u001b[39m,\n",
       "  \u001b[32m\"Lycian sarcophagus, partially free standing\"\u001b[39m,\n",
       "  \u001b[32m\"Lycian sarcophagus, rock-cut facade\"\u001b[39m,\n",
       "  \u001b[32m\"House tomb of Greek type, partially freestanding or with chamber\"\u001b[39m,\n",
       "  \u001b[32m\"House tomb, free standing\"\u001b[39m,\n",
       "  \u001b[32m\"House tomb, partially freestanding or with chamber\"\u001b[39m,\n",
       "  \u001b[32m\"Temenos tomb\"\u001b[39m,\n",
       "  \u001b[32m\"Pillar tomb with chamber\"\u001b[39m,\n",
       "  \u001b[32m\"Pillar tomb without chamber (?)\"\u001b[39m,\n",
       "  \u001b[32m\"House tomb of Greek type, rock-cut facade\"\u001b[39m,\n",
       "  \u001b[32m\"House tomb of Greek type, free standing\"\u001b[39m,\n",
       "  \u001b[32m\"Podium or platform tomb\"\u001b[39m\n",
       ")"
      ]
     },
     "execution_count": 5,
     "metadata": {},
     "output_type": "execute_result"
    }
   ],
   "source": [
    "val uniqueZtypeNames = data.map(columns => columns(4)).distinct.toVector"
   ]
  },
  {
   "cell_type": "code",
   "execution_count": 16,
   "metadata": {},
   "outputs": [
    {
     "data": {
      "text/plain": [
       "defined \u001b[32mclass\u001b[39m \u001b[36mLycianTomb\u001b[39m"
      ]
     },
     "execution_count": 16,
     "metadata": {},
     "output_type": "execute_result"
    }
   ],
   "source": [
    "case class LycianTomb (\n",
    "  site: String,\n",
    "  ztype: String,\n",
    "  count: Int,\n",
    "  comments: String,\n",
    "  typeDescription: String\n",
    ")"
   ]
  },
  {
   "cell_type": "code",
   "execution_count": 17,
   "metadata": {},
   "outputs": [
    {
     "data": {
      "text/plain": [
       "\u001b[36mtombs\u001b[39m: \u001b[32mVector\u001b[39m[\u001b[32mLycianTomb\u001b[39m] = \u001b[33mVector\u001b[39m(\n",
       "  \u001b[33mLycianTomb\u001b[39m(\u001b[32m\"Antiphellos\"\u001b[39m, \u001b[32m\"IID\"\u001b[39m, \u001b[32m17\u001b[39m, \u001b[32m\"NA\"\u001b[39m, \u001b[32m\"House tomb, rock-cut facade\"\u001b[39m),\n",
       "  \u001b[33mLycianTomb\u001b[39m(\u001b[32m\"Pinara\"\u001b[39m, \u001b[32m\"IIIA\"\u001b[39m, \u001b[32m2\u001b[39m, \u001b[32m\"NA\"\u001b[39m, \u001b[32m\"Lycian sarcophagus, free standing\"\u001b[39m),\n",
       "  \u001b[33mLycianTomb\u001b[39m(\u001b[32m\"Delicedere\"\u001b[39m, \u001b[32m\"IIIA\"\u001b[39m, \u001b[32m1\u001b[39m, \u001b[32m\"NA\"\u001b[39m, \u001b[32m\"Lycian sarcophagus, free standing\"\u001b[39m),\n",
       "  \u001b[33mLycianTomb\u001b[39m(\u001b[32m\"Xanthos\"\u001b[39m, \u001b[32m\"IIIA\"\u001b[39m, \u001b[32m9\u001b[39m, \u001b[32m\"NA\"\u001b[39m, \u001b[32m\"Lycian sarcophagus, free standing\"\u001b[39m),\n",
       "  \u001b[33mLycianTomb\u001b[39m(\u001b[32m\"Tlos\"\u001b[39m, \u001b[32m\"IIIA\"\u001b[39m, \u001b[32m5\u001b[39m, \u001b[32m\"NA\"\u001b[39m, \u001b[32m\"Lycian sarcophagus, free standing\"\u001b[39m),\n",
       "  \u001b[33mLycianTomb\u001b[39m(\u001b[32m\"Telmessos\"\u001b[39m, \u001b[32m\"IIIA\"\u001b[39m, \u001b[32m1\u001b[39m, \u001b[32m\"NA\"\u001b[39m, \u001b[32m\"Lycian sarcophagus, free standing\"\u001b[39m),\n",
       "  \u001b[33mLycianTomb\u001b[39m(\u001b[32m\"Trysa\"\u001b[39m, \u001b[32m\"IIIA\"\u001b[39m, \u001b[32m4\u001b[39m, \u001b[32m\"NA\"\u001b[39m, \u001b[32m\"Lycian sarcophagus, free standing\"\u001b[39m),\n",
       "  \u001b[33mLycianTomb\u001b[39m(\u001b[32m\"Tuze\"\u001b[39m, \u001b[32m\"IIIA\"\u001b[39m, \u001b[32m3\u001b[39m, \u001b[32m\"NA\"\u001b[39m, \u001b[32m\"Lycian sarcophagus, free standing\"\u001b[39m),\n",
       "  \u001b[33mLycianTomb\u001b[39m(\u001b[32m\"Cindam\"\u001b[39m, \u001b[32m\"IIIA\"\u001b[39m, \u001b[32m1\u001b[39m, \u001b[32m\"NA\"\u001b[39m, \u001b[32m\"Lycian sarcophagus, free standing\"\u001b[39m),\n",
       "  \u001b[33mLycianTomb\u001b[39m(\n",
       "    \u001b[32m\"Bayindir Liman\"\u001b[39m,\n",
       "    \u001b[32m\"IIIA\"\u001b[39m,\n",
       "    \u001b[32m1\u001b[39m,\n",
       "    \u001b[32m\"NA\"\u001b[39m,\n",
       "    \u001b[32m\"Lycian sarcophagus, free standing\"\u001b[39m\n",
       "  ),\n",
       "  \u001b[33mLycianTomb\u001b[39m(\u001b[32m\"Sura\"\u001b[39m, \u001b[32m\"IIIA\"\u001b[39m, \u001b[32m1\u001b[39m, \u001b[32m\"NA\"\u001b[39m, \u001b[32m\"Lycian sarcophagus, free standing\"\u001b[39m),\n",
       "  \u001b[33mLycianTomb\u001b[39m(\u001b[32m\"Limyra\"\u001b[39m, \u001b[32m\"IIIA\"\u001b[39m, \u001b[32m5\u001b[39m, \u001b[32m\"NA\"\u001b[39m, \u001b[32m\"Lycian sarcophagus, free standing\"\u001b[39m),\n",
       "  \u001b[33mLycianTomb\u001b[39m(\u001b[32m\"Kyanai\"\u001b[39m, \u001b[32m\"IIIA\"\u001b[39m, \u001b[32m2\u001b[39m, \u001b[32m\"NA\"\u001b[39m, \u001b[32m\"Lycian sarcophagus, free standing\"\u001b[39m),\n",
       "  \u001b[33mLycianTomb\u001b[39m(\u001b[32m\"Kadyanda\"\u001b[39m, \u001b[32m\"IIIA\"\u001b[39m, \u001b[32m1\u001b[39m, \u001b[32m\"NA\"\u001b[39m, \u001b[32m\"Lycian sarcophagus, free standing\"\u001b[39m),\n",
       "  \u001b[33mLycianTomb\u001b[39m(\u001b[32m\"Isinda\"\u001b[39m, \u001b[32m\"IIIA\"\u001b[39m, \u001b[32m1\u001b[39m, \u001b[32m\"NA\"\u001b[39m, \u001b[32m\"Lycian sarcophagus, free standing\"\u001b[39m),\n",
       "  \u001b[33mLycianTomb\u001b[39m(\n",
       "    \u001b[32m\"Antiphellos\"\u001b[39m,\n",
       "    \u001b[32m\"IIIA\"\u001b[39m,\n",
       "    \u001b[32m1\u001b[39m,\n",
       "    \u001b[32m\"NA\"\u001b[39m,\n",
       "    \u001b[32m\"Lycian sarcophagus, free standing\"\u001b[39m\n",
       "  ),\n",
       "  \u001b[33mLycianTomb\u001b[39m(\n",
       "    \u001b[32m\"Pinara\"\u001b[39m,\n",
       "    \u001b[32m\"IIIB\"\u001b[39m,\n",
       "    \u001b[32m1\u001b[39m,\n",
       "    \u001b[32m\"NA\"\u001b[39m,\n",
       "    \u001b[32m\"Lycian sarcophagus, partially free standing\"\u001b[39m\n",
       "  ),\n",
       "  \u001b[33mLycianTomb\u001b[39m(\n",
       "    \u001b[32m\"Phellos\"\u001b[39m,\n",
       "..."
      ]
     },
     "execution_count": 17,
     "metadata": {},
     "output_type": "execute_result"
    }
   ],
   "source": [
    "val tombs = data.filter(v => v.size >= 5).map ( cols => LycianTomb(\n",
    "  cols(0),cols(1),cols(2).toInt, cols(3), cols(4)\n",
    "))"
   ]
  },
  {
   "cell_type": "code",
   "execution_count": 21,
   "metadata": {},
   "outputs": [
    {
     "data": {
      "text/plain": [
       "\u001b[36mbyType\u001b[39m: \u001b[32mMap\u001b[39m[\u001b[32mString\u001b[39m, \u001b[32mVector\u001b[39m[\u001b[32mLycianTomb\u001b[39m]] = \u001b[33mMap\u001b[39m(\n",
       "  \u001b[32m\"Lycian sarcophagus, partially free standing\"\u001b[39m -> \u001b[33mVector\u001b[39m(\n",
       "    \u001b[33mLycianTomb\u001b[39m(\n",
       "      \u001b[32m\"Pinara\"\u001b[39m,\n",
       "      \u001b[32m\"IIIB\"\u001b[39m,\n",
       "      \u001b[32m1\u001b[39m,\n",
       "      \u001b[32m\"NA\"\u001b[39m,\n",
       "      \u001b[32m\"Lycian sarcophagus, partially free standing\"\u001b[39m\n",
       "    ),\n",
       "    \u001b[33mLycianTomb\u001b[39m(\n",
       "      \u001b[32m\"Phellos\"\u001b[39m,\n",
       "      \u001b[32m\"IIIB\"\u001b[39m,\n",
       "      \u001b[32m1\u001b[39m,\n",
       "      \u001b[32m\"NA\"\u001b[39m,\n",
       "      \u001b[32m\"Lycian sarcophagus, partially free standing\"\u001b[39m\n",
       "    ),\n",
       "    \u001b[33mLycianTomb\u001b[39m(\n",
       "      \u001b[32m\"Koybasi\"\u001b[39m,\n",
       "      \u001b[32m\"IIIB\"\u001b[39m,\n",
       "      \u001b[32m1\u001b[39m,\n",
       "      \u001b[32m\"NA\"\u001b[39m,\n",
       "      \u001b[32m\"Lycian sarcophagus, partially free standing\"\u001b[39m\n",
       "    ),\n",
       "    \u001b[33mLycianTomb\u001b[39m(\n",
       "      \u001b[32m\"Kyanai\"\u001b[39m,\n",
       "      \u001b[32m\"IIIB\"\u001b[39m,\n",
       "      \u001b[32m1\u001b[39m,\n",
       "      \u001b[32m\"NA\"\u001b[39m,\n",
       "      \u001b[32m\"Lycian sarcophagus, partially free standing\"\u001b[39m\n",
       "    )\n",
       "  ),\n",
       "  \u001b[32m\"House tomb, rock-cut facade\"\u001b[39m -> \u001b[33mVector\u001b[39m(\n",
       "    \u001b[33mLycianTomb\u001b[39m(\u001b[32m\"Antiphellos\"\u001b[39m, \u001b[32m\"IID\"\u001b[39m, \u001b[32m17\u001b[39m, \u001b[32m\"NA\"\u001b[39m, \u001b[32m\"House tomb, rock-cut facade\"\u001b[39m),\n",
       "    \u001b[33mLycianTomb\u001b[39m(\u001b[32m\"Rhodiapolis\"\u001b[39m, \u001b[32m\"IID\"\u001b[39m, \u001b[32m11\u001b[39m, \u001b[32m\"NA\"\u001b[39m, \u001b[32m\"House tomb, rock-cut facade\"\u001b[39m),\n",
       "    \u001b[33mLycianTomb\u001b[39m(\u001b[32m\"Pinara\"\u001b[39m, \u001b[32m\"IID\"\u001b[39m, \u001b[32m74\u001b[39m, \u001b[32m\"NA\"\u001b[39m, \u001b[32m\"House tomb, rock-cut facade\"\u001b[39m),\n",
       "    \u001b[33mLycianTomb\u001b[39m(\u001b[32m\"?\"\u001b[39m, \u001b[32m\"IID\"\u001b[39m, \u001b[32m1\u001b[39m, \u001b[32m\"NA\"\u001b[39m, \u001b[32m\"House tomb, rock-cut facade\"\u001b[39m),\n",
       "    \u001b[33mLycianTomb\u001b[39m(\u001b[32m\"Phellos\"\u001b[39m, \u001b[32m\"IID\"\u001b[39m, \u001b[32m9\u001b[39m, \u001b[32m\"NA\"\u001b[39m, \u001b[32m\"House tomb, rock-cut facade\"\u001b[39m),\n",
       "    \u001b[33mLycianTomb\u001b[39m(\u001b[32m\"Patara\"\u001b[39m, \u001b[32m\"IID\"\u001b[39m, \u001b[32m2\u001b[39m, \u001b[32m\"NA\"\u001b[39m, \u001b[32m\"House tomb, rock-cut facade\"\u001b[39m),\n",
       "    \u001b[33mLycianTomb\u001b[39m(\u001b[32m\"Alacadag Koy\"\u001b[39m, \u001b[32m\"IID\"\u001b[39m, \u001b[32m2\u001b[39m, \u001b[32m\"NA\"\u001b[39m, \u001b[32m\"House tomb, rock-cut facade\"\u001b[39m),\n",
       "..."
      ]
     },
     "execution_count": 21,
     "metadata": {},
     "output_type": "execute_result"
    }
   ],
   "source": [
    "val byType = tombs.groupBy( t => t.typeDescription)"
   ]
  },
  {
   "cell_type": "code",
   "execution_count": 22,
   "metadata": {},
   "outputs": [
    {
     "data": {
      "text/plain": [
       "\u001b[36mkeys\u001b[39m: \u001b[32mSet\u001b[39m[\u001b[32mString\u001b[39m] = \u001b[33mSet\u001b[39m(\n",
       "  \u001b[32m\"Lycian sarcophagus, partially free standing\"\u001b[39m,\n",
       "  \u001b[32m\"House tomb, rock-cut facade\"\u001b[39m,\n",
       "  \u001b[32m\"House tomb, free standing\"\u001b[39m,\n",
       "  \u001b[32m\"Pillar tomb without chamber (?)\"\u001b[39m,\n",
       "  \u001b[32m\"House tomb of Greek type, free standing\"\u001b[39m,\n",
       "  \u001b[32m\"House tomb of Greek type, partially freestanding or with chamber\"\u001b[39m,\n",
       "  \u001b[32m\"Podium or platform tomb\"\u001b[39m,\n",
       "  \u001b[32m\"House tomb, partially freestanding or with chamber\"\u001b[39m,\n",
       "  \u001b[32m\"Lycian sarcophagus, free standing\"\u001b[39m,\n",
       "  \u001b[32m\"Pillar tomb with chamber\"\u001b[39m,\n",
       "  \u001b[32m\"Lycian sarcophagus, rock-cut facade\"\u001b[39m,\n",
       "  \u001b[32m\"House tomb of Greek type, rock-cut facade\"\u001b[39m,\n",
       "  \u001b[32m\"Temenos tomb\"\u001b[39m\n",
       ")"
      ]
     },
     "execution_count": 22,
     "metadata": {},
     "output_type": "execute_result"
    }
   ],
   "source": [
    "val keys = byType.keySet"
   ]
  },
  {
   "cell_type": "code",
   "execution_count": 35,
   "metadata": {},
   "outputs": [],
   "source": []
  },
  {
   "cell_type": "code",
   "execution_count": 36,
   "metadata": {},
   "outputs": [
    {
     "data": {
      "text/plain": [
       "\u001b[36mres35\u001b[39m: \u001b[32mSet\u001b[39m[(\u001b[32mString\u001b[39m, \u001b[32mInt\u001b[39m)] = \u001b[33mSet\u001b[39m(\n",
       "  (\u001b[32m\"Lycian sarcophagus, partially free standing\"\u001b[39m, \u001b[32m4\u001b[39m),\n",
       "  (\u001b[32m\"House tomb of Greek type, rock-cut facade\"\u001b[39m, \u001b[32m18\u001b[39m),\n",
       "  (\u001b[32m\"Podium or platform tomb\"\u001b[39m, \u001b[32m4\u001b[39m),\n",
       "  (\u001b[32m\"House tomb, rock-cut facade\"\u001b[39m, \u001b[32m886\u001b[39m),\n",
       "  (\u001b[32m\"House tomb, free standing\"\u001b[39m, \u001b[32m13\u001b[39m),\n",
       "  (\u001b[32m\"Lycian sarcophagus, free standing\"\u001b[39m, \u001b[32m38\u001b[39m),\n",
       "  (\u001b[32m\"House tomb, partially freestanding or with chamber\"\u001b[39m, \u001b[32m60\u001b[39m),\n",
       "  (\u001b[32m\"Lycian sarcophagus, rock-cut facade\"\u001b[39m, \u001b[32m9\u001b[39m),\n",
       "  (\u001b[32m\"House tomb of Greek type, free standing\"\u001b[39m, \u001b[32m3\u001b[39m),\n",
       "  (\u001b[32m\"House tomb of Greek type, partially freestanding or with chamber\"\u001b[39m, \u001b[32m13\u001b[39m),\n",
       "  (\u001b[32m\"Pillar tomb without chamber (?)\"\u001b[39m, \u001b[32m7\u001b[39m),\n",
       "  (\u001b[32m\"Pillar tomb with chamber\"\u001b[39m, \u001b[32m28\u001b[39m),\n",
       "  (\u001b[32m\"Temenos tomb\"\u001b[39m, \u001b[32m2\u001b[39m)\n",
       ")"
      ]
     },
     "execution_count": 36,
     "metadata": {},
     "output_type": "execute_result"
    }
   ],
   "source": [
    "//val byType = tombs.groupBy( tomb => tomb.typeDescription)\n",
    "//val keys = byType.keySet\n",
    "for (key <- keys)  yield {\n",
    "  key -> byType(key).map(tomb => tomb.count).sum\n",
    "}\n",
    "\n",
    "//Make into a barchart "
   ]
  },
  {
   "cell_type": "code",
   "execution_count": null,
   "metadata": {},
   "outputs": [],
   "source": [
    "//FAILED STUFF:\n",
    "\n",
    "//val tombCounts = data.map(columns => columns(2).toInt)\n",
    "//val whoknows = tombCounts.groupBy(col => col)\n",
    "//val ztypesGrouped = data.groupBy(columns => columns(4)).toVector\n",
    "//val ztypesGroupedVector = ztypesGrouped.toVector\n",
    "//val tombInts = ztypesGrouped.map(columns => columns(2).toInt)\n",
    "//val huh = ztypesGrouped.map{case(v) => (v.columns(2))}\n",
    "//val idk = ztypesGrouped.map{ case()}\n",
    "//val countOfZtypes = ztypesGrouped.map{ case (d, v) => (d, v.size) }"
   ]
  },
  {
   "cell_type": "code",
   "execution_count": null,
   "metadata": {},
   "outputs": [],
   "source": [
    "//case class LycianTomb ( ",
    "  site: String, ",
    "  ztype: String, ",
    "  count: Int, ",
    "  comments: String, ",
    "  typeDescription: String ",
    ") { ",
    " ",
    "  def pretty: String = { ",
    "    \"Site: \" + site + \"\\nType: \" + ztype + \"\\nCount: \" + count ",
    "  } ",
    "} ",
    " ",
    "println(tombs.map ( t => t.pretty).mkString(\"\\n\\n\")) "
   ]
  }
 ],
 "metadata": {
  "kernel_info": {
   "name": "scala212"
  },
  "kernelspec": {
   "display_name": "Scala (2.12)",
   "language": "scala",
   "name": "scala212"
  },
  "language_info": {
   "codemirror_mode": "text/x-scala",
   "file_extension": ".scala",
   "mimetype": "text/x-scala",
   "name": "scala",
   "nbconvert_exporter": "script",
   "version": "2.12.10"
  },
  "nteract": {
   "version": "0.15.0"
  }
 },
 "nbformat": 4,
 "nbformat_minor": 2
}
