{
 "cells": [
  {
   "cell_type": "markdown",
   "metadata": {},
   "source": [
    "# Ancient Lycia Necropoleis \n",
    "## Southwestern Turkey Cemetery Site\n",
    "\n",
    "In ancient Lycia, rock-cut tombs often clustered together in cemetery sites, or necropoleis, like ancient Myra (modern Demre), illustrated above. This data set contains data about Lycian necropoleis including the number of tombs at each site. You will figure out how many total tombs are represented in the data set. The records describe for each site its name, a typological classification by the Danish scholar Jan Zahle, the number of tombs, an English-language summary, and an identifier in a geographic data set.\n",
    "\n",
    "#### Instructions: The Data Set\n",
    "\n",
    "The dataset is available as a delimited-text file [here](http://shot.holycross.edu/courses/ada/S20/data/lycianNecropoleis.cex). The format is one record per row, and columns are delimited by the pound sign (hash tag) `#`. The file includes a header row:\n",
    "\n",
    "`sitename#ztype#tombcount#comments#ztypetext#rageid`\n",
    "\n",
    "The records describe for each site its name, a typological classification by the Danish scholar Jan Zahle, the number of tombs, an English-language summary, and an identifier in a geographic data set."
   ]
  },
  {
   "cell_type": "markdown",
   "metadata": {},
   "source": [
    "\n",
    "### Retrieve the data set\n",
    "\n",
    "To download the data set, you can use the Scala `Source` object. You’ll need to import its class:\n",
    "\n",
    "`import scala.io.Source`\n",
    "\n",
    "and use the object’s `fromURL` method. The object this creates is not immediately useful to us, but it includes `getLines` method that we can convert to a Vector. You can see examples in our previous classwork of how to chain these methods together to create a Vector of Strings from our source URL."
   ]
  },
  {
   "cell_type": "code",
   "execution_count": null,
   "metadata": {
    "inputHidden": false,
    "outputHidden": false
   },
   "outputs": [],
   "source": [
    "import scala.io.Source\n",
    "// Import the data set"
   ]
  },
  {
   "cell_type": "markdown",
   "metadata": {},
   "source": [
    "### Extract the numeric count of tombs\n",
    "\n",
    "You should now have a Vector of Strings. You want to split up each String on the `#` character, to create a new Vector – this time, a Vector of Vectors. You’ll be mapping each line of the source data to a Vector of strings, one per column.\n",
    "\n",
    "The `tombcount` is in the third column (index number 2) of each record. Now we need to create a new Vector that contains only the tomb count. Again, you’ll be mapping one Vector to another.\n",
    "\n",
    "Notice that the result is a Vector of Strings. We want a Vector of integer values. We can use the String class’s `toInt` method to create an `Int` from a `String`, for example, `\"10\".toInt` produces the `Int` value 10.\n",
    "\n",
    "If you try to map every value in your Vector of Strings for tomb counts, you’ll get an error, however, because the header line has the String `tombcount`, and that can’t be converted to an integer! Recall that the `tail` method gives you all the elements of a Vector after the first one. (Its the complement of the `head` method, that gives you just the first element.) So, take the tail of your Vector of tomb count Strings and map that to integer values by applying the `toInt` method to each element. For example, if your Vector of tomb count Strings was named `tombCountStrings`, you could do this with\n",
    "\n",
    "`val tombCounts = tombCountStrings.tail.map(s => s.toInt)`\n",
    "\n",
    "At this point, you’re essentially done, because Scala collections have a `sum` method that will handily sum up a Vector of numeric values. You answer will be `tombCounts.sum` !"
   ]
  },
  {
   "cell_type": "code",
   "execution_count": null,
   "metadata": {
    "inputHidden": false,
    "outputHidden": false
   },
   "outputs": [],
   "source": [
    "// Extract the numeric count of tombs"
   ]
  }
 ],
 "metadata": {
  "kernel_info": {
   "name": "scala212"
  },
  "kernelspec": {
   "display_name": "Scala (2.12)",
   "language": "scala",
   "name": "scala212"
  },
  "language_info": {
   "codemirror_mode": "text/x-scala",
   "file_extension": ".scala",
   "mimetype": "text/x-scala",
   "name": "scala",
   "nbconvert_exporter": "script",
   "version": "2.12.10"
  },
  "nteract": {
   "version": "0.15.0"
  }
 },
 "nbformat": 4,
 "nbformat_minor": 2
}