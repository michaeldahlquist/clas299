{
 "cells": [
  {
   "cell_type": "markdown",
   "metadata": {},
   "source": [
    "# Archaeological Data Analysis: Coins of the Roman Empire\n",
    "\n",
    "### Author:  Michael Dahlquist"
   ]
  },
  {
   "cell_type": "markdown",
   "metadata": {},
   "source": [
    "# Exploring a data set\n",
    "\n",
    "In this notebook, you'll download a data set derived from the openly licensed content of the [Online Coins of the Roman Empire](http://numismatics.org/ocre/) (OCRE). The original data set is available from <http://nomisma.org/> RDF XML format.  We'l work with a version formatted as a delimited-text file, using `#` as the column delimiter, with a header line labelling each column.\n",
    "\n",
    "As with any data set, our first task is to figure out what kinds of data it contains, and what the range of values are for each category of data. We'll examine the contents of several columns of data.\n",
    "\n",
    "# Best way to execute scala code in jupyter notebook\n",
    "\n",
    "This file alternates between plain text and blocks of code. To ensure all lines run, please execute each block of code as you go by clicking the box of code and pressing `control` and `enter`. Alternatively, you can go to `cell` -> `run all` to execute the enter page now.\n",
    "\n",
    "\n"
   ]
  },
  {
   "cell_type": "markdown",
   "metadata": {},
   "source": [
    "## Download delimited-text data\n",
    "\n",
    "We'll make the standard Scala `Source` object available by `import`ing it, then use it to retrieve the content of a URL."
   ]
  },
  {
   "cell_type": "code",
   "execution_count": null,
   "metadata": {
    "inputHidden": false,
    "outputHidden": false
   },
   "outputs": [],
   "source": [
    "import scala.io.Source\n",
    "val ocreCex = \"https://raw.githubusercontent.com/michaeldahlquist/clas299/master/coins-of-the-roman-empire/ocre-cite-ids.cex\""
   ]
  },
  {
   "cell_type": "markdown",
   "metadata": {},
   "source": [
    "We'll extract a sequence of lines from the URL source, and convert them to our favorite type of Scala collection, a `Vector`.\n",
    "\n",
    "(The following cell downloads the data:  depending on your internet connection, this might take a moment.)"
   ]
  },
  {
   "cell_type": "code",
   "execution_count": null,
   "metadata": {
    "inputHidden": false,
    "outputHidden": false
   },
   "outputs": [],
   "source": [
    "val lines = Source.fromURL(ocreCex).getLines.toVector"
   ]
  },
  {
   "cell_type": "markdown",
   "metadata": {},
   "source": [
    "## Examine header line\n",
    "\n",
    "To start with, let's see what the first line looks like, and compare it with the first data line."
   ]
  },
  {
   "cell_type": "code",
   "execution_count": null,
   "metadata": {},
   "outputs": [],
   "source": [
    "lines.head // same as lines(0)"
   ]
  },
  {
   "cell_type": "code",
   "execution_count": null,
   "metadata": {
    "inputHidden": false,
    "outputHidden": false
   },
   "outputs": [],
   "source": [
    "lines(1)"
   ]
  },
  {
   "cell_type": "markdown",
   "metadata": {},
   "source": [
    "## Split data strings into columns\n",
    "\n",
    "Every line is a `String`.  If we break it up using the `split` method, we get an `Array` of `String`s, which we'll convert to a `Vector` of `String`s.  The end result will be that from a Vector of Strings, we create a Vector of Vectors of Strings.  Notice that Scala identifies the class of the new `data` expression as  `Vector[Vector[String]]`.\n",
    " "
   ]
  },
  {
   "cell_type": "code",
   "execution_count": null,
   "metadata": {
    "inputHidden": false,
    "outputHidden": false
   },
   "outputs": [],
   "source": [
    "val data = lines.tail.map(ln => ln.split(\"#\").toVector)"
   ]
  },
  {
   "cell_type": "markdown",
   "metadata": {},
   "source": [
    "Mapping each Vector to the first item in the Vector is equivalent to extracting the first column from each Vector.  The header line told us that the first column should contain ID values."
   ]
  },
  {
   "cell_type": "code",
   "execution_count": null,
   "metadata": {
    "inputHidden": false,
    "outputHidden": false
   },
   "outputs": [],
   "source": [
    "val ids = data.map(columns => columns(0))"
   ]
  },
  {
   "cell_type": "markdown",
   "metadata": {},
   "source": [
    "We want to be sure that all ID values are unique.  We can verify that by comparing the number of items in the `ids` Vector with the number of *distinct values* in the `ids` Vector.  If they're the same, then every value is unique."
   ]
  },
  {
   "cell_type": "code",
   "execution_count": null,
   "metadata": {
    "inputHidden": false,
    "outputHidden": false
   },
   "outputs": [],
   "source": [
    "//println(\"Records: \" + ids.size)\n",
    "//println(\"Distinct IDs: \" + ids.distinct.size)\n",
    "if(ids.size == ids.distinct.size) {\n",
    "    println(\"All records uniquely identified.\")\n",
    "} else {\n",
    "    println(\"Duplicate identifiers in data set.\")\n",
    "}"
   ]
  },
  {
   "cell_type": "markdown",
   "metadata": {},
   "source": [
    "## Distribution of denominations\n",
    "\n",
    "Let's look at how coin denominations are described.  You can see from the header line that denominations are in the third column, so we'll map each Vector to the thrid column -- and remember that we start indexing with 0, so the third column is indexed as `(2)`."
   ]
  },
  {
   "cell_type": "code",
   "execution_count": null,
   "metadata": {
    "inputHidden": false,
    "outputHidden": false
   },
   "outputs": [],
   "source": [
    "val denominations = data.map(columns => columns(2))"
   ]
  },
  {
   "cell_type": "markdown",
   "metadata": {},
   "source": [
    "We'll use a very handy Scala idiom to count how many times each authority appears. If we group the elements in our Vector by their value, the result is a Map from the unique set of values to a list of the matching values.  "
   ]
  },
  {
   "cell_type": "code",
   "execution_count": null,
   "metadata": {
    "inputHidden": false,
    "outputHidden": false
   },
   "outputs": [],
   "source": [
    "val denominationsGrouped = denominations.groupBy(denom => denom)"
   ]
  },
  {
   "cell_type": "code",
   "execution_count": null,
   "metadata": {
    "inputHidden": false,
    "outputHidden": false
   },
   "outputs": [],
   "source": [
    "// Free puzzle:  notice that the result of this groupBy should be the same size \n",
    "//               as the numnber of distinct values in our list:\n",
    "if (denominationsGrouped.size == denominations.distinct.size) {\n",
    "    println(\"Number of groups is same as number of distinct values.\")\n",
    "} else {\n",
    "    print(\"Something is terribly wrong.  The number of groups \")\n",
    "    println(\"is not the same as the number of distinct values.\")\n",
    "}"
   ]
  },
  {
   "cell_type": "markdown",
   "metadata": {},
   "source": [
    "What we really want to know is *how many times* does each denomination appear?  We can find that out by transforming our mapping of String->Vector[String] to give us a mapping of each denomination to the *size* of the Vector of its occurrences."
   ]
  },
  {
   "cell_type": "markdown",
   "metadata": {},
   "source": [
    "\n"
   ]
  },
  {
   "cell_type": "code",
   "execution_count": null,
   "metadata": {
    "inputHidden": false,
    "outputHidden": false
   },
   "outputs": [],
   "source": [
    "val denominationsCounts = denominationsGrouped.map{ case (d, v) => (d, v.size) }"
   ]
  },
  {
   "cell_type": "markdown",
   "metadata": {},
   "source": [
    "Recall that `Map`s are not ordered in Scala. If we now convert the `Map` to a `Vector`, we will have a Vector pairing a String with an Int.  We can sort the Vector by the second element of the pairing (which will sort from smallest to largest), then reverse the results to have a descedning list of how often each denomination occurs."
   ]
  },
  {
   "cell_type": "code",
   "execution_count": null,
   "metadata": {
    "inputHidden": false,
    "outputHidden": false
   },
   "outputs": [],
   "source": [
    "val denominationsVector = \n",
    "    denominationsCounts.toVector\n",
    "val denominationsHisto = \n",
    "    denominationsCounts.toVector.sortBy(frequency \n",
    "                                        => frequency._2).reverse"
   ]
  },
  {
   "cell_type": "markdown",
   "metadata": {},
   "source": [
    "Now we can easily see the extremes of the counts:"
   ]
  },
  {
   "cell_type": "code",
   "execution_count": null,
   "metadata": {
    "inputHidden": false,
    "outputHidden": false
   },
   "outputs": [],
   "source": [
    "println(\"Most frequent denomination: \" + denominationsHisto.head)"
   ]
  },
  {
   "cell_type": "code",
   "execution_count": null,
   "metadata": {
    "inputHidden": false,
    "outputHidden": false
   },
   "outputs": [],
   "source": [
    "// Find denominations occurring fewer than some threshhold number of times\n",
    "val cutOff = 10 \n",
    "val leastDenominations = \n",
    "    denominationsHisto.filter(frequency => frequency._2 < cutOff)\n",
    "println(\"Least frequent denominations: \\n\" + leastDenominations.mkString(\"\\n\"))"
   ]
  },
  {
   "cell_type": "markdown",
   "metadata": {},
   "source": [
    "## Assignment\n",
    "\n",
    "\n",
    "Analyze how many issues are produced by each issuing authority to answer the following questions:\n",
    "\n",
    "- How many different authorities strike coins in OCRE's data?\n",
    "- Who strikes the greatest number of issues?  How many?\n",
    "- What is the smallest number of issues struck by a single authority?"
   ]
  },
  {
   "cell_type": "markdown",
   "metadata": {},
   "source": [
    "### Gather and organize your data"
   ]
  },
  {
   "cell_type": "code",
   "execution_count": null,
   "metadata": {
    "inputHidden": false,
    "outputHidden": false
   },
   "outputs": [],
   "source": [
    "// First, to extract the \"Authority\" column from the data set, uncomment \n",
    "// and complete the following line:\n",
    "val authorities = data.map(columns => columns(4))"
   ]
  },
  {
   "cell_type": "markdown",
   "metadata": {},
   "source": [
    "### Question 1: how many authorities strike coins?\n",
    "\n",
    "* 131 authorities"
   ]
  },
  {
   "cell_type": "code",
   "execution_count": null,
   "metadata": {
    "inputHidden": false,
    "outputHidden": false
   },
   "outputs": [],
   "source": [
    "// Use the distinct method and size method to count \n",
    "// how many distinct values you have in `authorities`\n",
    "authorities.distinct.size"
   ]
  },
  {
   "cell_type": "markdown",
   "metadata": {},
   "source": [
    "### Group records by authority and count them"
   ]
  },
  {
   "cell_type": "code",
   "execution_count": null,
   "metadata": {
    "inputHidden": false,
    "outputHidden": false
   },
   "outputs": [],
   "source": [
    "// use the groupBy method to group each auhority by the authority value.\n",
    "// This will give you a Map of Strings to a Vector of Strings\n",
    "val authoritiesGrouped = authorities.groupBy(authority => authority)"
   ]
  },
  {
   "cell_type": "code",
   "execution_count": null,
   "metadata": {
    "inputHidden": false,
    "outputHidden": false
   },
   "outputs": [],
   "source": [
    "// now convert each pairing of String->Vector[String] to a String->Int counting \n",
    "// how many elements are in the original Vector.\n",
    "// The result is a Map[String->Int].\n",
    "val authoritiesCounts = authoritiesGrouped.map{ case (auth,v) => (auth, v.size)}"
   ]
  },
  {
   "cell_type": "code",
   "execution_count": null,
   "metadata": {
    "inputHidden": false,
    "outputHidden": false
   },
   "outputs": [],
   "source": [
    "// next convert your Map[String->Int] to a Vector.  The result is a \n",
    "// Vector of pairings of (String, Int).\n",
    "// We'll sort this by the second element of the pairing, namely the Int.  \n",
    "// Since we sort from smallest to largest\n",
    "// by default, you can reverse the result so that the \n",
    "val authoritiesHistogram = authoritiesCounts.toVector.sortBy(auth => auth._2).reverse"
   ]
  },
  {
   "cell_type": "markdown",
   "metadata": {},
   "source": [
    "### Questions 2: who strikes the most issues? \n",
    "\n",
    "* Constantine I with 4096\n",
    "\n",
    "### Question 3: who strikes the fewest?\n",
    "\n",
    "* Sponsianus with 1\n",
    "* Mar Silbannacus with 1\n",
    "* Domitian II with 1\n",
    "* Saturnius with 1"
   ]
  },
  {
   "cell_type": "code",
   "execution_count": null,
   "metadata": {
    "inputHidden": false,
    "outputHidden": false
   },
   "outputs": [],
   "source": [
    "// With the authoritiesHistogram you created, you can use the `head` and \n",
    "// `last` methods to see the first and last entries in the Vector.\n",
    "authoritiesHistogram.head\n",
    "authoritiesHistogram.last\n",
    "authoritiesHistogram.filter{freq => freq._2 == 1}//all that have 1"
   ]
  }
 ],
 "metadata": {
  "kernel_info": {
   "name": "scala212"
  },
  "kernelspec": {
   "display_name": "Scala (2.12)",
   "language": "scala",
   "name": "scala212"
  },
  "language_info": {
   "codemirror_mode": "text/x-scala",
   "file_extension": ".scala",
   "mimetype": "text/x-scala",
   "name": "scala",
   "nbconvert_exporter": "script",
   "version": "2.12.10"
  },
  "nteract": {
   "version": "0.15.0"
  }
 },
 "nbformat": 4,
 "nbformat_minor": 2
}